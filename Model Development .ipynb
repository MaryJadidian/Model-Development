{
 "cells": [
  {
   "cell_type": "code",
   "execution_count": 2,
   "id": "4a4fef43",
   "metadata": {},
   "outputs": [],
   "source": [
    "import pandas as pd\n",
    "import numpy as np\n",
    "import matplotlib.pyplot as plt\n",
    "#import skillsnetwork\n",
    "import warnings\n",
    "warnings.filterwarnings('ignore')"
   ]
  },
  {
   "cell_type": "code",
   "execution_count": 3,
   "id": "2188c24c",
   "metadata": {},
   "outputs": [],
   "source": [
    "filename ='https://cf-courses-data.s3.us.cloud-object-storage.appdomain.cloud/IBMDeveloperSkillsNetwork-DA0101EN-SkillsNetwork/labs/Data%20files/automobileEDA.csv'"
   ]
  },
  {
   "cell_type": "code",
   "execution_count": 4,
   "id": "ed173c61",
   "metadata": {},
   "outputs": [
    {
     "data": {
      "text/html": [
       "<div>\n",
       "<style scoped>\n",
       "    .dataframe tbody tr th:only-of-type {\n",
       "        vertical-align: middle;\n",
       "    }\n",
       "\n",
       "    .dataframe tbody tr th {\n",
       "        vertical-align: top;\n",
       "    }\n",
       "\n",
       "    .dataframe thead th {\n",
       "        text-align: right;\n",
       "    }\n",
       "</style>\n",
       "<table border=\"1\" class=\"dataframe\">\n",
       "  <thead>\n",
       "    <tr style=\"text-align: right;\">\n",
       "      <th></th>\n",
       "      <th>symboling</th>\n",
       "      <th>normalized-losses</th>\n",
       "      <th>make</th>\n",
       "      <th>aspiration</th>\n",
       "      <th>num-of-doors</th>\n",
       "      <th>body-style</th>\n",
       "      <th>drive-wheels</th>\n",
       "      <th>engine-location</th>\n",
       "      <th>wheel-base</th>\n",
       "      <th>length</th>\n",
       "      <th>...</th>\n",
       "      <th>compression-ratio</th>\n",
       "      <th>horsepower</th>\n",
       "      <th>peak-rpm</th>\n",
       "      <th>city-mpg</th>\n",
       "      <th>highway-mpg</th>\n",
       "      <th>price</th>\n",
       "      <th>city-L/100km</th>\n",
       "      <th>horsepower-binned</th>\n",
       "      <th>diesel</th>\n",
       "      <th>gas</th>\n",
       "    </tr>\n",
       "  </thead>\n",
       "  <tbody>\n",
       "    <tr>\n",
       "      <th>0</th>\n",
       "      <td>3</td>\n",
       "      <td>122</td>\n",
       "      <td>alfa-romero</td>\n",
       "      <td>std</td>\n",
       "      <td>two</td>\n",
       "      <td>convertible</td>\n",
       "      <td>rwd</td>\n",
       "      <td>front</td>\n",
       "      <td>88.6</td>\n",
       "      <td>0.811148</td>\n",
       "      <td>...</td>\n",
       "      <td>9.0</td>\n",
       "      <td>111.0</td>\n",
       "      <td>5000.0</td>\n",
       "      <td>21</td>\n",
       "      <td>27</td>\n",
       "      <td>13495.0</td>\n",
       "      <td>11.190476</td>\n",
       "      <td>Medium</td>\n",
       "      <td>0</td>\n",
       "      <td>1</td>\n",
       "    </tr>\n",
       "    <tr>\n",
       "      <th>1</th>\n",
       "      <td>3</td>\n",
       "      <td>122</td>\n",
       "      <td>alfa-romero</td>\n",
       "      <td>std</td>\n",
       "      <td>two</td>\n",
       "      <td>convertible</td>\n",
       "      <td>rwd</td>\n",
       "      <td>front</td>\n",
       "      <td>88.6</td>\n",
       "      <td>0.811148</td>\n",
       "      <td>...</td>\n",
       "      <td>9.0</td>\n",
       "      <td>111.0</td>\n",
       "      <td>5000.0</td>\n",
       "      <td>21</td>\n",
       "      <td>27</td>\n",
       "      <td>16500.0</td>\n",
       "      <td>11.190476</td>\n",
       "      <td>Medium</td>\n",
       "      <td>0</td>\n",
       "      <td>1</td>\n",
       "    </tr>\n",
       "    <tr>\n",
       "      <th>2</th>\n",
       "      <td>1</td>\n",
       "      <td>122</td>\n",
       "      <td>alfa-romero</td>\n",
       "      <td>std</td>\n",
       "      <td>two</td>\n",
       "      <td>hatchback</td>\n",
       "      <td>rwd</td>\n",
       "      <td>front</td>\n",
       "      <td>94.5</td>\n",
       "      <td>0.822681</td>\n",
       "      <td>...</td>\n",
       "      <td>9.0</td>\n",
       "      <td>154.0</td>\n",
       "      <td>5000.0</td>\n",
       "      <td>19</td>\n",
       "      <td>26</td>\n",
       "      <td>16500.0</td>\n",
       "      <td>12.368421</td>\n",
       "      <td>Medium</td>\n",
       "      <td>0</td>\n",
       "      <td>1</td>\n",
       "    </tr>\n",
       "    <tr>\n",
       "      <th>3</th>\n",
       "      <td>2</td>\n",
       "      <td>164</td>\n",
       "      <td>audi</td>\n",
       "      <td>std</td>\n",
       "      <td>four</td>\n",
       "      <td>sedan</td>\n",
       "      <td>fwd</td>\n",
       "      <td>front</td>\n",
       "      <td>99.8</td>\n",
       "      <td>0.848630</td>\n",
       "      <td>...</td>\n",
       "      <td>10.0</td>\n",
       "      <td>102.0</td>\n",
       "      <td>5500.0</td>\n",
       "      <td>24</td>\n",
       "      <td>30</td>\n",
       "      <td>13950.0</td>\n",
       "      <td>9.791667</td>\n",
       "      <td>Medium</td>\n",
       "      <td>0</td>\n",
       "      <td>1</td>\n",
       "    </tr>\n",
       "    <tr>\n",
       "      <th>4</th>\n",
       "      <td>2</td>\n",
       "      <td>164</td>\n",
       "      <td>audi</td>\n",
       "      <td>std</td>\n",
       "      <td>four</td>\n",
       "      <td>sedan</td>\n",
       "      <td>4wd</td>\n",
       "      <td>front</td>\n",
       "      <td>99.4</td>\n",
       "      <td>0.848630</td>\n",
       "      <td>...</td>\n",
       "      <td>8.0</td>\n",
       "      <td>115.0</td>\n",
       "      <td>5500.0</td>\n",
       "      <td>18</td>\n",
       "      <td>22</td>\n",
       "      <td>17450.0</td>\n",
       "      <td>13.055556</td>\n",
       "      <td>Medium</td>\n",
       "      <td>0</td>\n",
       "      <td>1</td>\n",
       "    </tr>\n",
       "  </tbody>\n",
       "</table>\n",
       "<p>5 rows × 29 columns</p>\n",
       "</div>"
      ],
      "text/plain": [
       "   symboling  normalized-losses         make aspiration num-of-doors  \\\n",
       "0          3                122  alfa-romero        std          two   \n",
       "1          3                122  alfa-romero        std          two   \n",
       "2          1                122  alfa-romero        std          two   \n",
       "3          2                164         audi        std         four   \n",
       "4          2                164         audi        std         four   \n",
       "\n",
       "    body-style drive-wheels engine-location  wheel-base    length  ...  \\\n",
       "0  convertible          rwd           front        88.6  0.811148  ...   \n",
       "1  convertible          rwd           front        88.6  0.811148  ...   \n",
       "2    hatchback          rwd           front        94.5  0.822681  ...   \n",
       "3        sedan          fwd           front        99.8  0.848630  ...   \n",
       "4        sedan          4wd           front        99.4  0.848630  ...   \n",
       "\n",
       "   compression-ratio  horsepower  peak-rpm city-mpg highway-mpg    price  \\\n",
       "0                9.0       111.0    5000.0       21          27  13495.0   \n",
       "1                9.0       111.0    5000.0       21          27  16500.0   \n",
       "2                9.0       154.0    5000.0       19          26  16500.0   \n",
       "3               10.0       102.0    5500.0       24          30  13950.0   \n",
       "4                8.0       115.0    5500.0       18          22  17450.0   \n",
       "\n",
       "  city-L/100km  horsepower-binned  diesel  gas  \n",
       "0    11.190476             Medium       0    1  \n",
       "1    11.190476             Medium       0    1  \n",
       "2    12.368421             Medium       0    1  \n",
       "3     9.791667             Medium       0    1  \n",
       "4    13.055556             Medium       0    1  \n",
       "\n",
       "[5 rows x 29 columns]"
      ]
     },
     "execution_count": 4,
     "metadata": {},
     "output_type": "execute_result"
    }
   ],
   "source": [
    "df = pd.read_csv(filename)\n",
    "df.head()"
   ]
  },
  {
   "cell_type": "markdown",
   "id": "ba454952",
   "metadata": {},
   "source": [
    " Linear Regression and Multiple Linear Regression¶\n",
    "Linear Regression\n",
    "One example of a Data Model that we will be using is:\n",
    "\n",
    "Simple Linear Regression\n",
    "Simple Linear Regression is a method to help us understand the relationship between two variables:\n",
    "\n",
    "The predictor/independent variable (X)\n",
    "The response/dependent variable (that we want to predict)(Y)\n",
    "The result of Linear Regression is a linear function that predicts the response (dependent) variable as a function of the predictor (independent) variable.\n",
    "\n",
    "Y\n",
    ":\n",
    "R\n",
    "e\n",
    "s\n",
    "p\n",
    "o\n",
    "n\n",
    "s\n",
    "e\n",
    " \n",
    "V\n",
    "a\n",
    "r\n",
    "i\n",
    "a\n",
    "b\n",
    "l\n",
    "e\n",
    "X\n",
    ":\n",
    "P\n",
    "r\n",
    "e\n",
    "d\n",
    "i\n",
    "c\n",
    "t\n",
    "o\n",
    "r\n",
    " \n",
    "V\n",
    "a\n",
    "r\n",
    "i\n",
    "a\n",
    "b\n",
    "l\n",
    "e\n",
    "s\n",
    "Linear Function\n",
    "Y\n",
    "h\n",
    "a\n",
    "t\n",
    "=\n",
    "a\n",
    "+\n",
    "b\n",
    "X\n",
    " \n",
    "a refers to the intercept of the regression line, in other words: the value of Y when X is 0\n",
    "b refers to the slope of the regression line, in other words: the value with which Y changes when X increases by 1 unit"
   ]
  },
  {
   "cell_type": "code",
   "execution_count": 5,
   "id": "2e5686a2",
   "metadata": {},
   "outputs": [],
   "source": [
    "from sklearn.linear_model import LinearRegression"
   ]
  },
  {
   "cell_type": "code",
   "execution_count": 6,
   "id": "df6c6b0f",
   "metadata": {},
   "outputs": [
    {
     "data": {
      "text/plain": [
       "LinearRegression()"
      ]
     },
     "execution_count": 6,
     "metadata": {},
     "output_type": "execute_result"
    }
   ],
   "source": [
    "lm = LinearRegression()\n",
    "lm"
   ]
  },
  {
   "cell_type": "code",
   "execution_count": 7,
   "id": "8106b980",
   "metadata": {},
   "outputs": [],
   "source": [
    "X = df[['highway-mpg']]\n",
    "Y = df['price']"
   ]
  },
  {
   "cell_type": "code",
   "execution_count": 8,
   "id": "09484660",
   "metadata": {},
   "outputs": [
    {
     "data": {
      "text/plain": [
       "LinearRegression()"
      ]
     },
     "execution_count": 8,
     "metadata": {},
     "output_type": "execute_result"
    }
   ],
   "source": [
    "lm.fit(X,Y)"
   ]
  },
  {
   "cell_type": "code",
   "execution_count": 9,
   "id": "cf666979",
   "metadata": {},
   "outputs": [
    {
     "data": {
      "text/plain": [
       "array([16236.50464347, 16236.50464347, 17058.23802179, 13771.3045085 ,\n",
       "       20345.17153508])"
      ]
     },
     "execution_count": 9,
     "metadata": {},
     "output_type": "execute_result"
    }
   ],
   "source": [
    "Yhat=lm.predict(X)\n",
    "Yhat[0:5]   "
   ]
  },
  {
   "cell_type": "markdown",
   "id": "8d373041",
   "metadata": {},
   "source": [
    "What is the value of the intercept (a)?"
   ]
  },
  {
   "cell_type": "code",
   "execution_count": 10,
   "id": "de8c263d",
   "metadata": {},
   "outputs": [
    {
     "data": {
      "text/plain": [
       "38423.305858157386"
      ]
     },
     "execution_count": 10,
     "metadata": {},
     "output_type": "execute_result"
    }
   ],
   "source": [
    "lm.intercept_"
   ]
  },
  {
   "cell_type": "markdown",
   "id": "e59e4fca",
   "metadata": {},
   "source": [
    "What is the value of the slope (b)?"
   ]
  },
  {
   "cell_type": "code",
   "execution_count": 11,
   "id": "938ebb56",
   "metadata": {},
   "outputs": [
    {
     "data": {
      "text/plain": [
       "array([-821.73337832])"
      ]
     },
     "execution_count": 11,
     "metadata": {},
     "output_type": "execute_result"
    }
   ],
   "source": [
    "lm.coef_"
   ]
  },
  {
   "cell_type": "markdown",
   "id": "51c0fc85",
   "metadata": {},
   "source": [
    "As we saw above, we should get a final linear model with the structure:\n",
    "\n",
    "Y\n",
    "h\n",
    "a\n",
    "t\n",
    "=\n",
    "a\n",
    "+\n",
    "b\n",
    "X\n",
    " \n",
    "Plugging in the actual values we get:\n",
    "\n",
    "Price = 38423.31 - 821.73 x highway-mpg"
   ]
  },
  {
   "cell_type": "markdown",
   "id": "333204e0",
   "metadata": {},
   "source": [
    "1. Create a linear regression object called \"lm1\":"
   ]
  },
  {
   "cell_type": "code",
   "execution_count": 12,
   "id": "9773b6fc",
   "metadata": {},
   "outputs": [
    {
     "data": {
      "text/plain": [
       "LinearRegression()"
      ]
     },
     "execution_count": 12,
     "metadata": {},
     "output_type": "execute_result"
    }
   ],
   "source": [
    "lm1 = LinearRegression()\n",
    "lm1"
   ]
  },
  {
   "cell_type": "markdown",
   "id": "108caa66",
   "metadata": {},
   "source": [
    "2.Train the model using \"engine-size\" as the independent variable and \"price\" as the dependent variable:"
   ]
  },
  {
   "cell_type": "code",
   "execution_count": 13,
   "id": "109d07b8",
   "metadata": {},
   "outputs": [
    {
     "data": {
      "text/plain": [
       "LinearRegression()"
      ]
     },
     "execution_count": 13,
     "metadata": {},
     "output_type": "execute_result"
    }
   ],
   "source": [
    "lm1.fit(df[['engine-size']], df[['price']])\n",
    "lm1"
   ]
  },
  {
   "cell_type": "markdown",
   "id": "70b402f7",
   "metadata": {},
   "source": [
    "3. Find the slope and intercept of the model:"
   ]
  },
  {
   "cell_type": "code",
   "execution_count": 14,
   "id": "84d87ad8",
   "metadata": {},
   "outputs": [
    {
     "data": {
      "text/plain": [
       "array([[166.86001569]])"
      ]
     },
     "execution_count": 14,
     "metadata": {},
     "output_type": "execute_result"
    }
   ],
   "source": [
    "lm1.coef_"
   ]
  },
  {
   "cell_type": "code",
   "execution_count": 15,
   "id": "2238f6a0",
   "metadata": {},
   "outputs": [
    {
     "data": {
      "text/plain": [
       "array([-7963.33890628])"
      ]
     },
     "execution_count": 15,
     "metadata": {},
     "output_type": "execute_result"
    }
   ],
   "source": [
    "lm1.intercept_"
   ]
  },
  {
   "cell_type": "markdown",
   "id": "3b2927d6",
   "metadata": {},
   "source": [
    "4. What is the equation of the predicted line? "
   ]
  },
  {
   "cell_type": "code",
   "execution_count": 16,
   "id": "88d107dd",
   "metadata": {},
   "outputs": [],
   "source": [
    "# using X and Y  \n",
    "#if engine is not defined it will print error (NameError: name 'engine' is not defined).\n",
    "Yhat=-7963.34 + 166.86*X\n",
    "\n",
    "Price=-7963.34 + 166.86*df['engine-size']"
   ]
  },
  {
   "cell_type": "markdown",
   "id": "da735588",
   "metadata": {},
   "source": [
    "Multiple Linear Regression\n",
    "What if we want to predict car price using more than one variable?\n",
    "\n",
    "If we want to use more variables in our model to predict car price, we can use Multiple Linear Regression. Multiple Linear Regression is very similar to Simple Linear Regression, but this method is used to explain the relationship between one continuous response (dependent) variable and two or more predictor (independent) variables. Most of the real-world regression models involve multiple predictors. We will illustrate the structure by using four predictor variables, but these results can generalize to any integer:"
   ]
  },
  {
   "cell_type": "markdown",
   "id": "fdcfd892",
   "metadata": {},
   "source": [
    "Y\n",
    ":\n",
    "R\n",
    "e\n",
    "s\n",
    "p\n",
    "o\n",
    "n\n",
    "s\n",
    "e\n",
    " \n",
    "V\n",
    "a\n",
    "r\n",
    "i\n",
    "a\n",
    "b\n",
    "l\n",
    "e\n",
    "X\n",
    "_\n",
    "1\n",
    ":\n",
    "P\n",
    "r\n",
    "e\n",
    "d\n",
    "i\n",
    "c\n",
    "t\n",
    "o\n",
    "r\n",
    " \n",
    "V\n",
    "a\n",
    "r\n",
    "i\n",
    "a\n",
    "b\n",
    "l\n",
    "e\n",
    " \n",
    "1\n",
    "X\n",
    "_\n",
    "2\n",
    ":\n",
    "P\n",
    "r\n",
    "e\n",
    "d\n",
    "i\n",
    "c\n",
    "t\n",
    "o\n",
    "r\n",
    " \n",
    "V\n",
    "a\n",
    "r\n",
    "i\n",
    "a\n",
    "b\n",
    "l\n",
    "e\n",
    " \n",
    "2\n",
    "X\n",
    "_\n",
    "3\n",
    ":\n",
    "P\n",
    "r\n",
    "e\n",
    "d\n",
    "i\n",
    "c\n",
    "t\n",
    "o\n",
    "r\n",
    " \n",
    "V\n",
    "a\n",
    "r\n",
    "i\n",
    "a\n",
    "b\n",
    "l\n",
    "e\n",
    " \n",
    "3\n",
    "X\n",
    "_\n",
    "4\n",
    ":\n",
    "P\n",
    "r\n",
    "e\n",
    "d\n",
    "i\n",
    "c\n",
    "t\n",
    "o\n",
    "r\n",
    " \n",
    "V\n",
    "a\n",
    "r\n",
    "i\n",
    "a\n",
    "b\n",
    "l\n",
    "e\n",
    " \n",
    "4"
   ]
  },
  {
   "cell_type": "markdown",
   "id": "73651fab",
   "metadata": {},
   "source": [
    "a\n",
    ":\n",
    "i\n",
    "n\n",
    "t\n",
    "e\n",
    "r\n",
    "c\n",
    "e\n",
    "p\n",
    "t\n",
    "b\n",
    "_\n",
    "1\n",
    ":\n",
    "c\n",
    "o\n",
    "e\n",
    "f\n",
    "f\n",
    "i\n",
    "c\n",
    "i\n",
    "e\n",
    "n\n",
    "t\n",
    "s\n",
    " \n",
    "o\n",
    "f\n",
    " \n",
    "V\n",
    "a\n",
    "r\n",
    "i\n",
    "a\n",
    "b\n",
    "l\n",
    "e\n",
    " \n",
    "1\n",
    "b\n",
    "_\n",
    "2\n",
    ":\n",
    "c\n",
    "o\n",
    "e\n",
    "f\n",
    "f\n",
    "i\n",
    "c\n",
    "i\n",
    "e\n",
    "n\n",
    "t\n",
    "s\n",
    " \n",
    "o\n",
    "f\n",
    " \n",
    "V\n",
    "a\n",
    "r\n",
    "i\n",
    "a\n",
    "b\n",
    "l\n",
    "e\n",
    " \n",
    "2\n",
    "b\n",
    "_\n",
    "3\n",
    ":\n",
    "c\n",
    "o\n",
    "e\n",
    "f\n",
    "f\n",
    "i\n",
    "c\n",
    "i\n",
    "e\n",
    "n\n",
    "t\n",
    "s\n",
    " \n",
    "o\n",
    "f\n",
    " \n",
    "V\n",
    "a\n",
    "r\n",
    "i\n",
    "a\n",
    "b\n",
    "l\n",
    "e\n",
    " \n",
    "3\n",
    "b\n",
    "_\n",
    "4\n",
    ":\n",
    "c\n",
    "o\n",
    "e\n",
    "f\n",
    "f\n",
    "i\n",
    "c\n",
    "i\n",
    "e\n",
    "n\n",
    "t\n",
    "s\n",
    " \n",
    "o\n",
    "f\n",
    " \n",
    "V\n",
    "a\n",
    "r\n",
    "i\n",
    "a\n",
    "b\n",
    "l\n",
    "e\n",
    " \n",
    "4"
   ]
  },
  {
   "cell_type": "markdown",
   "id": "07ddd502",
   "metadata": {},
   "source": [
    "The equation is given by:"
   ]
  },
  {
   "cell_type": "markdown",
   "id": "5239959a",
   "metadata": {},
   "source": [
    "Y\n",
    "h\n",
    "a\n",
    "t\n",
    "=\n",
    "a\n",
    "+\n",
    "b\n",
    "_\n",
    "1\n",
    "X\n",
    "_\n",
    "1\n",
    "+\n",
    "b\n",
    "_\n",
    "2\n",
    "X\n",
    "_\n",
    "2\n",
    "+\n",
    "b\n",
    "_\n",
    "3\n",
    "X\n",
    "_\n",
    "3\n",
    "+\n",
    "b\n",
    "_\n",
    "4\n",
    "X\n",
    "_\n",
    "4"
   ]
  },
  {
   "cell_type": "markdown",
   "id": "332c6fc0",
   "metadata": {},
   "source": [
    "That other good predictors of price could be:\n",
    "\n",
    "Horsepower\n",
    "Curb-weight\n",
    "Engine-size\n",
    "Highway-mpg\n",
    "Let's develop a model using these variables as the predictor variables."
   ]
  },
  {
   "cell_type": "code",
   "execution_count": 17,
   "id": "db5ff9f7",
   "metadata": {},
   "outputs": [],
   "source": [
    "Z = df[['horsepower', 'curb-weight', 'engine-size', 'highway-mpg']]"
   ]
  },
  {
   "cell_type": "markdown",
   "id": "b2c7cd67",
   "metadata": {},
   "source": [
    "Fit the linear model using the four above-mentioned variables."
   ]
  },
  {
   "cell_type": "code",
   "execution_count": 18,
   "id": "9383af8e",
   "metadata": {},
   "outputs": [
    {
     "data": {
      "text/plain": [
       "LinearRegression()"
      ]
     },
     "execution_count": 18,
     "metadata": {},
     "output_type": "execute_result"
    }
   ],
   "source": [
    "lm.fit(Z, df['price'])"
   ]
  },
  {
   "cell_type": "markdown",
   "id": "6737fb59",
   "metadata": {},
   "source": [
    "What is the value of the intercept(a):"
   ]
  },
  {
   "cell_type": "code",
   "execution_count": 20,
   "id": "f1b13102",
   "metadata": {},
   "outputs": [
    {
     "data": {
      "text/plain": [
       "-15806.624626329198"
      ]
     },
     "execution_count": 20,
     "metadata": {},
     "output_type": "execute_result"
    }
   ],
   "source": [
    "lm.intercept_"
   ]
  },
  {
   "cell_type": "markdown",
   "id": "bdbb072d",
   "metadata": {},
   "source": [
    "What are the values of the coefficients (b1, b2, b3, b4):"
   ]
  },
  {
   "cell_type": "code",
   "execution_count": 21,
   "id": "f0fa0f37",
   "metadata": {},
   "outputs": [
    {
     "data": {
      "text/plain": [
       "array([53.49574423,  4.70770099, 81.53026382, 36.05748882])"
      ]
     },
     "execution_count": 21,
     "metadata": {},
     "output_type": "execute_result"
    }
   ],
   "source": [
    "lm.coef_"
   ]
  },
  {
   "cell_type": "markdown",
   "id": "9082b8a7",
   "metadata": {},
   "source": [
    "What is the final estimated linear model that we get?"
   ]
  },
  {
   "cell_type": "markdown",
   "id": "41204bad",
   "metadata": {},
   "source": [
    "As we saw above, we should get a final linear function with the structure:\n",
    "\n",
    "Y\n",
    "h\n",
    "a\n",
    "t\n",
    "=\n",
    "a\n",
    "+\n",
    "b\n",
    "_\n",
    "1\n",
    "X\n",
    "_\n",
    "1\n",
    "+\n",
    "b\n",
    "_\n",
    "2\n",
    "X\n",
    "_\n",
    "2\n",
    "+\n",
    "b\n",
    "_\n",
    "3\n",
    "X\n",
    "_\n",
    "3\n",
    "+\n",
    "b\n",
    "_\n",
    "4\n",
    "X\n",
    "_\n",
    "4\n",
    " \n",
    "What is the linear function we get in this example?"
   ]
  },
  {
   "cell_type": "markdown",
   "id": "43c865f0",
   "metadata": {},
   "source": [
    "Price = -15678.742628061467 + 52.65851272 x horsepower + 4.69878948 x curb-weight + 81.95906216 x engine-size + 33.58258185 x highway-mpg"
   ]
  },
  {
   "cell_type": "markdown",
   "id": "3de5f896",
   "metadata": {},
   "source": [
    "5. Create and train a Multiple Linear Regression model \"lm2\" where the response variable is \"price\", and the predictor variable is \"normalized-losses\" and \"highway-mpg\":"
   ]
  },
  {
   "cell_type": "code",
   "execution_count": 22,
   "id": "fd1bfaf9",
   "metadata": {},
   "outputs": [
    {
     "data": {
      "text/plain": [
       "LinearRegression()"
      ]
     },
     "execution_count": 22,
     "metadata": {},
     "output_type": "execute_result"
    }
   ],
   "source": [
    "lm2 = LinearRegression()\n",
    "lm2.fit(df[['normalized-losses' , 'highway-mpg']],df['price'])"
   ]
  },
  {
   "cell_type": "markdown",
   "id": "ea2f9c8d",
   "metadata": {},
   "source": [
    "6. Find the coefficient of the model:"
   ]
  },
  {
   "cell_type": "code",
   "execution_count": 23,
   "id": "cb61e485",
   "metadata": {},
   "outputs": [
    {
     "data": {
      "text/plain": [
       "array([   1.49789586, -820.45434016])"
      ]
     },
     "execution_count": 23,
     "metadata": {},
     "output_type": "execute_result"
    }
   ],
   "source": [
    "lm2.coef_"
   ]
  },
  {
   "cell_type": "markdown",
   "id": "c756f6a5",
   "metadata": {},
   "source": [
    "6. Model Evaluation Using Visualization:"
   ]
  },
  {
   "cell_type": "code",
   "execution_count": 24,
   "id": "872f558f",
   "metadata": {},
   "outputs": [],
   "source": [
    "import seaborn as sns\n",
    "%matplotlib inline "
   ]
  },
  {
   "cell_type": "markdown",
   "id": "2f6e6731",
   "metadata": {},
   "source": [
    "7. Regrassion Plot:"
   ]
  },
  {
   "cell_type": "code",
   "execution_count": 25,
   "id": "7aab724b",
   "metadata": {},
   "outputs": [
    {
     "data": {
      "text/plain": [
       "(0.0, 48173.49087827376)"
      ]
     },
     "execution_count": 25,
     "metadata": {},
     "output_type": "execute_result"
    },
    {
     "data": {
      "image/png": "[encoded data removed]",
      "text/plain": [
       "<Figure size 1200x1000 with 1 Axes>"
      ]
     },
     "metadata": {},
     "output_type": "display_data"
    }
   ],
   "source": [
    "width = 12\n",
    "height = 10\n",
    "plt.figure(figsize=(width, height))\n",
    "sns.regplot(x=\"highway-mpg\", y=\"price\", data=df)\n",
    "plt.ylim(0,)"
   ]
  },
  {
   "cell_type": "markdown",
   "id": "ef7b572c",
   "metadata": {},
   "source": [
    "We can see from this plot that price is negatively correlated to highway-mpg since the regression slope is negative.\n",
    "\n",
    "One thing to keep in mind when looking at a regression plot is to pay attention to how scattered the data points are around the regression line. This will give you a good indication of the variance of the data and whether a linear model would be the best fit or not. If the data is too far off from the line, this linear model might not be the best model for this data.\n",
    "\n",
    "Let's compare this plot to the regression plot of \"peak-rpm\"."
   ]
  },
  {
   "cell_type": "code",
   "execution_count": 27,
   "id": "a45af2ff",
   "metadata": {},
   "outputs": [
    {
     "data": {
      "text/plain": [
       "(0.0, 47414.1)"
      ]
     },
     "execution_count": 27,
     "metadata": {},
     "output_type": "execute_result"
    },
    {
     "data": {
      "image/png": "[encoded data removed]",
      "text/plain": [
       "<Figure size 1200x1000 with 1 Axes>"
      ]
     },
     "metadata": {},
     "output_type": "display_data"
    }
   ],
   "source": [
    "plt.figure(figsize=(width,height))\n",
    "sns.regplot(x=\"peak-rpm\", y=\"price\", data=df)\n",
    "plt.ylim(0,)"
   ]
  },
  {
   "cell_type": "markdown",
   "id": "38f1d955",
   "metadata": {},
   "source": [
    "Comparing the regression plot of \"peak-rpm\" and \"highway-mpg\", we see that the points for \"highway-mpg\" are much closer to the generated line and, on average, decrease. The points for \"peak-rpm\" have more spread around the predicted line and it is much harder to determine if the points are decreasing or increasing as the \"peak-rpm\" increases."
   ]
  },
  {
   "cell_type": "markdown",
   "id": "38fff9b1",
   "metadata": {},
   "source": [
    "8. Given the regression plots above, is \"peak-rpm\" or \"highway-mpg\" more strongly correlated with \"price\""
   ]
  },
  {
   "cell_type": "code",
   "execution_count": 28,
   "id": "28ff7298",
   "metadata": {},
   "outputs": [
    {
     "data": {
      "text/html": [
       "<div>\n",
       "<style scoped>\n",
       "    .dataframe tbody tr th:only-of-type {\n",
       "        vertical-align: middle;\n",
       "    }\n",
       "\n",
       "    .dataframe tbody tr th {\n",
       "        vertical-align: top;\n",
       "    }\n",
       "\n",
       "    .dataframe thead th {\n",
       "        text-align: right;\n",
       "    }\n",
       "</style>\n",
       "<table border=\"1\" class=\"dataframe\">\n",
       "  <thead>\n",
       "    <tr style=\"text-align: right;\">\n",
       "      <th></th>\n",
       "      <th>peak-rpm</th>\n",
       "      <th>highway-mpg</th>\n",
       "      <th>price</th>\n",
       "    </tr>\n",
       "  </thead>\n",
       "  <tbody>\n",
       "    <tr>\n",
       "      <th>peak-rpm</th>\n",
       "      <td>1.000000</td>\n",
       "      <td>-0.058598</td>\n",
       "      <td>-0.101616</td>\n",
       "    </tr>\n",
       "    <tr>\n",
       "      <th>highway-mpg</th>\n",
       "      <td>-0.058598</td>\n",
       "      <td>1.000000</td>\n",
       "      <td>-0.704692</td>\n",
       "    </tr>\n",
       "    <tr>\n",
       "      <th>price</th>\n",
       "      <td>-0.101616</td>\n",
       "      <td>-0.704692</td>\n",
       "      <td>1.000000</td>\n",
       "    </tr>\n",
       "  </tbody>\n",
       "</table>\n",
       "</div>"
      ],
      "text/plain": [
       "             peak-rpm  highway-mpg     price\n",
       "peak-rpm     1.000000    -0.058598 -0.101616\n",
       "highway-mpg -0.058598     1.000000 -0.704692\n",
       "price       -0.101616    -0.704692  1.000000"
      ]
     },
     "execution_count": 28,
     "metadata": {},
     "output_type": "execute_result"
    }
   ],
   "source": [
    "df[[\"peak-rpm\", \"highway-mpg\", \"price\"]].corr()"
   ]
  },
  {
   "cell_type": "markdown",
   "id": "1ebdd122",
   "metadata": {},
   "source": [
    "9. Residual Plot"
   ]
  },
  {
   "cell_type": "markdown",
   "id": "59bb214e",
   "metadata": {},
   "source": [
    "A good way to visualize the variance of the data is to use a residual plot.\n",
    "\n",
    "What is a residual?\n",
    "\n",
    "The difference between the observed value (y) and the predicted value (Yhat) is called the residual (e). When we look at a regression plot, the residual is the distance from the data point to the fitted regression line.\n",
    "\n",
    "So what is a residual plot?\n",
    "\n",
    "A residual plot is a graph that shows the residuals on the vertical y-axis and the independent variable on the horizontal x-axis.\n",
    "\n",
    "What do we pay attention to when looking at a residual plot?\n",
    "\n",
    "We look at the spread of the residuals:\n",
    "\n",
    "- If the points in a residual plot are randomly spread out around the x-axis, then a linear model is appropriate for the data.\n",
    "\n",
    "Why is that? Randomly spread out residuals means that the variance is constant, and thus the linear model is a good fit for this data."
   ]
  },
  {
   "cell_type": "code",
   "execution_count": 29,
   "id": "a81417ed",
   "metadata": {},
   "outputs": [
    {
     "data": {
      "image/png": "[encoded data removed]",
      "text/plain": [
       "<Figure size 1200x1000 with 1 Axes>"
      ]
     },
     "metadata": {},
     "output_type": "display_data"
    }
   ],
   "source": [
    "width = 12\n",
    "height = 10\n",
    "plt.figure(figsize=(width, height))\n",
    "sns.residplot(x=df['highway-mpg'],y=df['price'])\n",
    "plt.show()"
   ]
  },
  {
   "cell_type": "markdown",
   "id": "e9606990",
   "metadata": {},
   "source": [
    "What is this plot telling us?\n",
    "\n",
    "We can see from this residual plot that the residuals are not randomly spread around the x-axis, leading us to believe that maybe a non-linear model is more appropriate for this data."
   ]
  },
  {
   "cell_type": "markdown",
   "id": "d098fc8d",
   "metadata": {},
   "source": [
    "10. Multiple Linear Regression"
   ]
  },
  {
   "cell_type": "markdown",
   "id": "94b9a3a0",
   "metadata": {},
   "source": [
    "How do we visualize a model for Multiple Linear Regression? This gets a bit more complicated because you can't visualize it with regression or residual plot.\n",
    "\n",
    "One way to look at the fit of the model is by looking at the distribution plot. We can look at the distribution of the fitted values that result from the model and compare it to the distribution of the actual values.\n",
    "\n",
    "First, let's make a prediction:"
   ]
  },
  {
   "cell_type": "code",
   "execution_count": 30,
   "id": "3637bcfd",
   "metadata": {},
   "outputs": [],
   "source": [
    "Y_hat = lm.predict(Z)"
   ]
  },
  {
   "cell_type": "code",
   "execution_count": 31,
   "id": "a7c599b1",
   "metadata": {},
   "outputs": [
    {
     "data": {
      "image/png": "[encoded data removed]",
      "text/plain": [
       "<Figure size 1200x1000 with 1 Axes>"
      ]
     },
     "metadata": {},
     "output_type": "display_data"
    }
   ],
   "source": [
    "plt.figure(figsize=(width, height))\n",
    "\n",
    "\n",
    "ax1 = sns.distplot(df['price'], hist=False, color=\"r\", label=\"Actual Value\")\n",
    "sns.distplot(Y_hat, hist=False, color=\"b\", label=\"Fitted Values\" , ax=ax1)\n",
    "\n",
    "\n",
    "plt.title('Actual vs Fitted Values for Price')\n",
    "plt.xlabel('Price (in dollars)')\n",
    "plt.ylabel('Proportion of Cars')\n",
    "\n",
    "plt.show()\n",
    "plt.close()"
   ]
  },
  {
   "cell_type": "markdown",
   "id": "ddb11de1",
   "metadata": {},
   "source": [
    "We can see that the fitted values are reasonably close to the actual values since the two distributions overlap a bit. However, there is definitely some room for improvement."
   ]
  },
  {
   "cell_type": "markdown",
   "id": "58e75ba6",
   "metadata": {},
   "source": [
    "11. Polynomial Regression and Pipelines\n",
    "Polynomial regression is a particular case of the general linear regression model or multiple linear regression models.\n",
    "\n",
    "We get non-linear relationships by squaring or setting higher-order terms of the predictor variables.\n",
    "\n",
    "There are different orders of polynomial regression:\n",
    "    Quadratic - 2nd Order\n",
    "Y\n",
    "h\n",
    "a\n",
    "t\n",
    "=\n",
    "a\n",
    "+\n",
    "b\n",
    "1\n",
    "X\n",
    "+\n",
    "b\n",
    "2\n",
    "X\n",
    "2\n",
    "\n",
    "Cubic - 3rd Order\n",
    "Y\n",
    "h\n",
    "a\n",
    "t\n",
    "=\n",
    "a\n",
    "+\n",
    "b\n",
    "1\n",
    "X\n",
    "+\n",
    "b\n",
    "2\n",
    "X\n",
    "2\n",
    "+\n",
    "b\n",
    "3\n",
    "X\n",
    "3\n",
    "\n",
    "Higher-Order:\n",
    "Y\n",
    "=\n",
    "a\n",
    "+\n",
    "b\n",
    "1\n",
    "X\n",
    "+\n",
    "b\n",
    "2\n",
    "X\n",
    "2\n",
    "+\n",
    "b\n",
    "3\n",
    "X\n",
    "3\n",
    ".\n",
    ".\n",
    ".\n",
    "."
   ]
  },
  {
   "cell_type": "markdown",
   "id": "0f5c1c0f",
   "metadata": {},
   "source": [
    "We saw earlier that a linear model did not provide the best fit while using \"highway-mpg\" as the predictor variable. Let's see if we can try fitting a polynomial model to the data instead.\n",
    "\n",
    "We will use the following function to plot the data:"
   ]
  },
  {
   "cell_type": "code",
   "execution_count": 32,
   "id": "293de242",
   "metadata": {},
   "outputs": [],
   "source": [
    "def PlotPolly(model, independent_variable, dependent_variabble, Name):\n",
    "    x_new = np.linspace(15, 55, 100)\n",
    "    y_new = model(x_new)\n",
    "\n",
    "    plt.plot(independent_variable, dependent_variabble, '.', x_new, y_new, '-')\n",
    "    plt.title('Polynomial Fit with Matplotlib for Price ~ Length')\n",
    "    ax = plt.gca()\n",
    "    ax.set_facecolor((0.898, 0.898, 0.898))\n",
    "    fig = plt.gcf()\n",
    "    plt.xlabel(Name)\n",
    "    plt.ylabel('Price of Cars')\n",
    "\n",
    "    plt.show()\n",
    "    plt.close()"
   ]
  },
  {
   "cell_type": "code",
   "execution_count": 33,
   "id": "eb87a810",
   "metadata": {},
   "outputs": [],
   "source": [
    "x = df['highway-mpg']\n",
    "y = df['price']"
   ]
  },
  {
   "cell_type": "markdown",
   "id": "fd72cd7a",
   "metadata": {},
   "source": [
    "Let's fit the polynomial using the function polyfit, then use the function poly1d to display the polynomial function."
   ]
  },
  {
   "cell_type": "code",
   "execution_count": 34,
   "id": "9ad65826",
   "metadata": {},
   "outputs": [
    {
     "name": "stdout",
     "output_type": "stream",
     "text": [
      "        3         2\n",
      "-1.557 x + 204.8 x - 8965 x + 1.379e+05\n"
     ]
    }
   ],
   "source": [
    "# Here we use a polynomial of the 3rd order (cubic) \n",
    "f = np.polyfit(x, y, 3)\n",
    "p = np.poly1d(f)\n",
    "print(p)"
   ]
  },
  {
   "cell_type": "code",
   "execution_count": 35,
   "id": "5a9ebd85",
   "metadata": {},
   "outputs": [
    {
     "data": {
      "image/png": "[encoded data removed]",
      "text/plain": [
       "<Figure size 640x480 with 1 Axes>"
      ]
     },
     "metadata": {},
     "output_type": "display_data"
    }
   ],
   "source": [
    "PlotPolly(p, x, y, 'highway-mpg')"
   ]
  },
  {
   "cell_type": "code",
   "execution_count": 36,
   "id": "0f212455",
   "metadata": {},
   "outputs": [
    {
     "data": {
      "text/plain": [
       "array([-1.55663829e+00,  2.04754306e+02, -8.96543312e+03,  1.37923594e+05])"
      ]
     },
     "execution_count": 36,
     "metadata": {},
     "output_type": "execute_result"
    }
   ],
   "source": [
    "np.polyfit(x, y, 3)"
   ]
  },
  {
   "cell_type": "markdown",
   "id": "874ed6ff",
   "metadata": {},
   "source": [
    "We can already see from plotting that this polynomial model performs better than the linear model. This is because the generated polynomial function \"hits\" more of the data points."
   ]
  },
  {
   "cell_type": "markdown",
   "id": "9acd9307",
   "metadata": {},
   "source": [
    "12.Create 11 order polynomial model with the variables x and y from above"
   ]
  },
  {
   "cell_type": "code",
   "execution_count": 38,
   "id": "d62be6ef",
   "metadata": {},
   "outputs": [
    {
     "name": "stdout",
     "output_type": "stream",
     "text": [
      "            11             10             9           8         7\n",
      "-1.243e-08 x  + 4.722e-06 x  - 0.0008028 x + 0.08056 x - 5.297 x\n",
      "          6        5             4             3             2\n",
      " + 239.5 x - 7588 x + 1.684e+05 x - 2.565e+06 x + 2.551e+07 x - 1.491e+08 x + 3.879e+08\n"
     ]
    },
    {
     "data": {
      "image/png": "[encoded data removed]",
      "text/plain": [
       "<Figure size 640x480 with 1 Axes>"
      ]
     },
     "metadata": {},
     "output_type": "display_data"
    }
   ],
   "source": [
    "f1=np.polyfit(x, y, 11)\n",
    "p1=np.poly1d(f1)\n",
    "print(p1)\n",
    "PlotPolly(p1, x, y, 'Highway MPG')"
   ]
  },
  {
   "cell_type": "markdown",
   "id": "23772a20",
   "metadata": {},
   "source": [
    "The analytical expression for Multivariate Polynomial function gets complicated. For example, the expression for a second-order (degree=2) polynomial with two variables is given by:"
   ]
  },
  {
   "cell_type": "markdown",
   "id": "e910e05a",
   "metadata": {},
   "source": [
    "Y\n",
    "h\n",
    "a\n",
    "t\n",
    "=\n",
    "a\n",
    "+\n",
    "b\n",
    "_\n",
    "1\n",
    "X\n",
    "_\n",
    "1\n",
    "+\n",
    "b\n",
    "_\n",
    "2\n",
    "X\n",
    "_\n",
    "2\n",
    "+\n",
    "b\n",
    "_\n",
    "3\n",
    "X\n",
    "_\n",
    "1\n",
    "X\n",
    "_\n",
    "2\n",
    "+\n",
    "b\n",
    "_\n",
    "4\n",
    "X\n",
    "_\n",
    "1\n",
    "2\n",
    "+\n",
    "b\n",
    "_\n",
    "5\n",
    "X\n",
    "_\n",
    "2\n",
    "2"
   ]
  },
  {
   "cell_type": "markdown",
   "id": "d522e8ca",
   "metadata": {},
   "source": [
    "We can perform a polynomial transform on multiple features. First, we import the module:"
   ]
  },
  {
   "cell_type": "code",
   "execution_count": 39,
   "id": "fa066fb0",
   "metadata": {},
   "outputs": [],
   "source": [
    "from sklearn.preprocessing import PolynomialFeatures"
   ]
  },
  {
   "cell_type": "markdown",
   "id": "42ca62f6",
   "metadata": {},
   "source": [
    "We create a PolynomialFeatures object of degree 2:"
   ]
  },
  {
   "cell_type": "code",
   "execution_count": 40,
   "id": "29358cfa",
   "metadata": {},
   "outputs": [
    {
     "data": {
      "text/plain": [
       "PolynomialFeatures()"
      ]
     },
     "execution_count": 40,
     "metadata": {},
     "output_type": "execute_result"
    }
   ],
   "source": [
    "pr=PolynomialFeatures(degree=2)\n",
    "pr"
   ]
  },
  {
   "cell_type": "code",
   "execution_count": 41,
   "id": "0889528d",
   "metadata": {},
   "outputs": [],
   "source": [
    "Z_pr=pr.fit_transform(Z)"
   ]
  },
  {
   "cell_type": "markdown",
   "id": "3c8ecc3a",
   "metadata": {},
   "source": [
    "In the original data, there are 201 samples and 4 features."
   ]
  },
  {
   "cell_type": "code",
   "execution_count": 42,
   "id": "571f68bf",
   "metadata": {},
   "outputs": [
    {
     "data": {
      "text/plain": [
       "(201, 4)"
      ]
     },
     "execution_count": 42,
     "metadata": {},
     "output_type": "execute_result"
    }
   ],
   "source": [
    "Z.shape"
   ]
  },
  {
   "cell_type": "markdown",
   "id": "20b3b9bf",
   "metadata": {},
   "source": [
    "After the transformation, there are 201 samples and 15 features."
   ]
  },
  {
   "cell_type": "code",
   "execution_count": 43,
   "id": "1eeabb43",
   "metadata": {},
   "outputs": [
    {
     "data": {
      "text/plain": [
       "(201, 15)"
      ]
     },
     "execution_count": 43,
     "metadata": {},
     "output_type": "execute_result"
    }
   ],
   "source": [
    "Z_pr.shape"
   ]
  },
  {
   "cell_type": "markdown",
   "id": "54bc853a",
   "metadata": {},
   "source": [
    "13.Pipeline\n",
    "Data Pipelines simplify the steps of processing the data. We use the module Pipeline to create a pipeline. We also use StandardScaler as a step in our pipeline"
   ]
  },
  {
   "cell_type": "code",
   "execution_count": 44,
   "id": "7e969c1f",
   "metadata": {},
   "outputs": [],
   "source": [
    "from sklearn.pipeline import Pipeline\n",
    "from sklearn.preprocessing import StandardScaler"
   ]
  },
  {
   "cell_type": "markdown",
   "id": "9adabc7d",
   "metadata": {},
   "source": [
    "We create the pipeline by creating a list of tuples including the name of the model or estimator and its corresponding constructor."
   ]
  },
  {
   "cell_type": "code",
   "execution_count": 45,
   "id": "e46d6e8b",
   "metadata": {},
   "outputs": [],
   "source": [
    "Input=[('scale',StandardScaler()), ('polynomial', PolynomialFeatures(include_bias=False)), ('model',LinearRegression())]"
   ]
  },
  {
   "cell_type": "markdown",
   "id": "dc116d12",
   "metadata": {},
   "source": [
    "We input the list as an argument to the pipeline constructor:"
   ]
  },
  {
   "cell_type": "code",
   "execution_count": 46,
   "id": "8be19f3d",
   "metadata": {},
   "outputs": [
    {
     "data": {
      "text/plain": [
       "Pipeline(steps=[('scale', StandardScaler()),\n",
       "                ('polynomial', PolynomialFeatures(include_bias=False)),\n",
       "                ('model', LinearRegression())])"
      ]
     },
     "execution_count": 46,
     "metadata": {},
     "output_type": "execute_result"
    }
   ],
   "source": [
    "pipe=Pipeline(Input)\n",
    "pipe"
   ]
  },
  {
   "cell_type": "markdown",
   "id": "53d55657",
   "metadata": {},
   "source": [
    "First, we convert the data type Z to type float to avoid conversion warnings that may appear as a result of StandardScaler taking float inputs.\n",
    "\n",
    "Then, we can normalize the data, perform a transform and fit the model simultaneously."
   ]
  },
  {
   "cell_type": "code",
   "execution_count": 47,
   "id": "6cfe2114",
   "metadata": {},
   "outputs": [
    {
     "data": {
      "text/plain": [
       "Pipeline(steps=[('scale', StandardScaler()),\n",
       "                ('polynomial', PolynomialFeatures(include_bias=False)),\n",
       "                ('model', LinearRegression())])"
      ]
     },
     "execution_count": 47,
     "metadata": {},
     "output_type": "execute_result"
    }
   ],
   "source": [
    "Z = Z.astype(float)\n",
    "pipe.fit(Z,y)"
   ]
  },
  {
   "cell_type": "markdown",
   "id": "6605a514",
   "metadata": {},
   "source": [
    "Similarly, we can normalize the data, perform a transform and produce a prediction simultaneously."
   ]
  },
  {
   "cell_type": "code",
   "execution_count": 48,
   "id": "2f72cb09",
   "metadata": {},
   "outputs": [
    {
     "data": {
      "text/plain": [
       "array([13102.74784201, 13102.74784201, 18225.54572197, 10390.29636555])"
      ]
     },
     "execution_count": 48,
     "metadata": {},
     "output_type": "execute_result"
    }
   ],
   "source": [
    "ypipe=pipe.predict(Z)\n",
    "ypipe[0:4]"
   ]
  },
  {
   "cell_type": "markdown",
   "id": "779358fa",
   "metadata": {},
   "source": [
    "13. Create a pipeline that standardizes the data, then produce a prediction using a linear regression model using the features Z and target y"
   ]
  },
  {
   "cell_type": "code",
   "execution_count": 49,
   "id": "8aba95fe",
   "metadata": {},
   "outputs": [
    {
     "data": {
      "text/plain": [
       "array([13699.11161184, 13699.11161184, 19051.65470233, 10620.36193015,\n",
       "       15521.31420211, 13869.66673213, 15456.16196732, 15974.00907672,\n",
       "       17612.35917161, 10722.32509097])"
      ]
     },
     "execution_count": 49,
     "metadata": {},
     "output_type": "execute_result"
    }
   ],
   "source": [
    "Input=[('scale',StandardScaler()),('model',LinearRegression())]\n",
    "\n",
    "pipe=Pipeline(Input)\n",
    "\n",
    "pipe.fit(Z,y)\n",
    "\n",
    "ypipe=pipe.predict(Z)\n",
    "ypipe[0:10]"
   ]
  },
  {
   "cell_type": "markdown",
   "id": "068beebe",
   "metadata": {},
   "source": [
    "14. Measures for In-Sample Evaluation\n",
    "When evaluating our models, not only do we want to visualize the results, but we also want a quantitative measure to determine how accurate the model is.\n",
    "\n",
    "Two very important measures that are often used in Statistics to determine the accuracy of a model are:\n",
    "\n",
    "R^2 / R-squared\n",
    "Mean Squared Error (MSE)\n",
    "R-squared\n",
    "\n",
    "R squared, also known as the coefficient of determination, is a measure to indicate how close the data is to the fitted regression line.\n",
    "\n",
    "The value of the R-squared is the percentage of variation of the response variable (y) that is explained by a linear model.\n",
    "\n",
    "Mean Squared Error (MSE)\n",
    "\n",
    "The Mean Squared Error measures the average of the squares of errors. That is, the difference between actual value (y) and the estimated value (ŷ)"
   ]
  },
  {
   "cell_type": "markdown",
   "id": "0a355cea",
   "metadata": {},
   "source": [
    "Model 1: Simple Linear Regression"
   ]
  },
  {
   "cell_type": "markdown",
   "id": "69eb4e78",
   "metadata": {},
   "source": [
    "Let's calculate the R^2:"
   ]
  },
  {
   "cell_type": "code",
   "execution_count": 50,
   "id": "c91ae63d",
   "metadata": {},
   "outputs": [
    {
     "name": "stdout",
     "output_type": "stream",
     "text": [
      "The R-square is:  0.4965911884339175\n"
     ]
    }
   ],
   "source": [
    "#highway_mpg_fit\n",
    "lm.fit(X, Y)\n",
    "# Find the R^2\n",
    "print('The R-square is: ', lm.score(X, Y))"
   ]
  },
  {
   "cell_type": "markdown",
   "id": "72dc1cec",
   "metadata": {},
   "source": [
    "We can say that ~49.659% of the variation of the price is explained by this simple linear model \"horsepower_fit\".\n",
    "\n",
    "Let's calculate the MSE:"
   ]
  },
  {
   "cell_type": "markdown",
   "id": "0012e297",
   "metadata": {},
   "source": [
    "We can predict the output i.e., \"yhat\" using the predict method, where X is the input variable:"
   ]
  },
  {
   "cell_type": "code",
   "execution_count": 51,
   "id": "b1650d47",
   "metadata": {},
   "outputs": [
    {
     "name": "stdout",
     "output_type": "stream",
     "text": [
      "The output of the first four predicted value is:  [16236.50464347 16236.50464347 17058.23802179 13771.3045085 ]\n"
     ]
    }
   ],
   "source": [
    "Yhat=lm.predict(X)\n",
    "print('The output of the first four predicted value is: ', Yhat[0:4])"
   ]
  },
  {
   "cell_type": "markdown",
   "id": "398ca01c",
   "metadata": {},
   "source": [
    "Let's import the function mean_squared_error from the module metrics:"
   ]
  },
  {
   "cell_type": "code",
   "execution_count": 52,
   "id": "daf838aa",
   "metadata": {},
   "outputs": [],
   "source": [
    "from sklearn.metrics import mean_squared_error"
   ]
  },
  {
   "cell_type": "markdown",
   "id": "c97d5383",
   "metadata": {},
   "source": [
    "We can compare the predicted results with the actual results:"
   ]
  },
  {
   "cell_type": "code",
   "execution_count": 53,
   "id": "d7561bfd",
   "metadata": {},
   "outputs": [
    {
     "name": "stdout",
     "output_type": "stream",
     "text": [
      "The mean square error of price and predicted value is:  31635042.944639895\n"
     ]
    }
   ],
   "source": [
    "mse = mean_squared_error(df['price'], Yhat)\n",
    "print('The mean square error of price and predicted value is: ', mse)"
   ]
  },
  {
   "cell_type": "markdown",
   "id": "6e37c4f5",
   "metadata": {},
   "source": [
    "15. Model 2: Multiple Linear Regression\n",
    "Let's calculate the R^2:"
   ]
  },
  {
   "cell_type": "code",
   "execution_count": 54,
   "id": "ea33b53c",
   "metadata": {},
   "outputs": [
    {
     "name": "stdout",
     "output_type": "stream",
     "text": [
      "The R-square is:  0.8093562806577457\n"
     ]
    }
   ],
   "source": [
    "# fit the model \n",
    "lm.fit(Z, df['price'])\n",
    "# Find the R^2\n",
    "print('The R-square is: ', lm.score(Z, df['price']))"
   ]
  },
  {
   "cell_type": "markdown",
   "id": "89c7edd0",
   "metadata": {},
   "source": [
    "We can say that ~80.896 % of the variation of price is explained by this multiple linear regression \"multi_fit\".\n",
    "\n",
    "Let's calculate the MSE.\n",
    "\n",
    "We produce a prediction:"
   ]
  },
  {
   "cell_type": "code",
   "execution_count": 56,
   "id": "6cc3d42a",
   "metadata": {},
   "outputs": [],
   "source": [
    "Y_predict_multifit=lm.predict(Z)"
   ]
  },
  {
   "cell_type": "markdown",
   "id": "0dcb6690",
   "metadata": {},
   "source": [
    "We compare the predicted results with the actual results:"
   ]
  },
  {
   "cell_type": "code",
   "execution_count": 57,
   "id": "a72327fc",
   "metadata": {},
   "outputs": [
    {
     "name": "stdout",
     "output_type": "stream",
     "text": [
      "The mean square error of price and predicted value using multifit is:  11980366.87072649\n"
     ]
    }
   ],
   "source": [
    "print('The mean square error of price and predicted value using multifit is: ', \\\n",
    "      mean_squared_error(df['price'], Y_predict_multifit))"
   ]
  },
  {
   "cell_type": "markdown",
   "id": "ba82e0a6",
   "metadata": {},
   "source": [
    "16. Model 3: Polynomial Fit"
   ]
  },
  {
   "cell_type": "markdown",
   "id": "a14c1c4b",
   "metadata": {},
   "source": [
    "Let's calculate the R^2.\n",
    "\n",
    "Let’s import the function r2_score from the module metrics as we are using a different function."
   ]
  },
  {
   "cell_type": "code",
   "execution_count": 58,
   "id": "bef703c3",
   "metadata": {},
   "outputs": [],
   "source": [
    "from sklearn.metrics import r2_score"
   ]
  },
  {
   "cell_type": "markdown",
   "id": "833c823c",
   "metadata": {},
   "source": [
    "We apply the function to get the value of R^2:"
   ]
  },
  {
   "cell_type": "code",
   "execution_count": 59,
   "id": "3a74d78f",
   "metadata": {},
   "outputs": [
    {
     "name": "stdout",
     "output_type": "stream",
     "text": [
      "The R-square value is:  0.6741946663906513\n"
     ]
    }
   ],
   "source": [
    "r_squared = r2_score(y, p(x))\n",
    "print('The R-square value is: ', r_squared)"
   ]
  },
  {
   "cell_type": "markdown",
   "id": "a25caec1",
   "metadata": {},
   "source": [
    "We can say that ~67.419 % of the variation of price is explained by this polynomial fit."
   ]
  },
  {
   "cell_type": "markdown",
   "id": "1e6d210d",
   "metadata": {},
   "source": [
    "17. MSE"
   ]
  },
  {
   "cell_type": "markdown",
   "id": "09094015",
   "metadata": {},
   "source": [
    "We can also calculate the MSE:"
   ]
  },
  {
   "cell_type": "code",
   "execution_count": 60,
   "id": "3be7fb96",
   "metadata": {},
   "outputs": [
    {
     "data": {
      "text/plain": [
       "20474146.42636125"
      ]
     },
     "execution_count": 60,
     "metadata": {},
     "output_type": "execute_result"
    }
   ],
   "source": [
    "mean_squared_error(df['price'], p(x))"
   ]
  },
  {
   "cell_type": "markdown",
   "id": "b7338f96",
   "metadata": {},
   "source": [
    "18. Prediction and Decision Making"
   ]
  },
  {
   "cell_type": "markdown",
   "id": "ad01b55c",
   "metadata": {},
   "source": [
    "Prediction\n",
    "In the previous section, we trained the model using the method fit. Now we will use the method predict to produce a prediction. Lets import pyplot for plotting; we will also be using some functions from numpy."
   ]
  },
  {
   "cell_type": "code",
   "execution_count": 61,
   "id": "52eb1675",
   "metadata": {},
   "outputs": [],
   "source": [
    "import matplotlib.pyplot as plt\n",
    "import numpy as np\n",
    "\n",
    "%matplotlib inline "
   ]
  },
  {
   "cell_type": "markdown",
   "id": "d74b973e",
   "metadata": {},
   "source": [
    "Create a new input:"
   ]
  },
  {
   "cell_type": "code",
   "execution_count": 62,
   "id": "b1b7bc61",
   "metadata": {},
   "outputs": [],
   "source": [
    "new_input=np.arange(1, 100, 1).reshape(-1, 1)"
   ]
  },
  {
   "cell_type": "markdown",
   "id": "60023892",
   "metadata": {},
   "source": [
    "Fit the model:"
   ]
  },
  {
   "cell_type": "code",
   "execution_count": 63,
   "id": "84a03c7e",
   "metadata": {},
   "outputs": [
    {
     "data": {
      "text/plain": [
       "LinearRegression()"
      ]
     },
     "execution_count": 63,
     "metadata": {},
     "output_type": "execute_result"
    }
   ],
   "source": [
    "lm.fit(X, Y)\n",
    "lm"
   ]
  },
  {
   "cell_type": "markdown",
   "id": "410c3dac",
   "metadata": {},
   "source": [
    "Produce a prediction:"
   ]
  },
  {
   "cell_type": "code",
   "execution_count": 64,
   "id": "237a132b",
   "metadata": {},
   "outputs": [
    {
     "data": {
      "text/plain": [
       "array([37601.57247984, 36779.83910151, 35958.10572319, 35136.37234487,\n",
       "       34314.63896655])"
      ]
     },
     "execution_count": 64,
     "metadata": {},
     "output_type": "execute_result"
    }
   ],
   "source": [
    "yhat=lm.predict(new_input)\n",
    "yhat[0:5]"
   ]
  },
  {
   "cell_type": "markdown",
   "id": "2dbbefa4",
   "metadata": {},
   "source": [
    "\n",
    "We can plot the data:"
   ]
  },
  {
   "cell_type": "code",
   "execution_count": 65,
   "id": "1409f289",
   "metadata": {},
   "outputs": [
    {
     "data": {
      "image/png": "[encoded data removed]",
      "text/plain": [
       "<Figure size 640x480 with 1 Axes>"
      ]
     },
     "metadata": {},
     "output_type": "display_data"
    }
   ],
   "source": [
    "plt.plot(new_input, yhat)\n",
    "plt.show()"
   ]
  },
  {
   "cell_type": "markdown",
   "id": "56506ca5",
   "metadata": {},
   "source": [
    "Decision Making: Determining a Good Model Fit"
   ]
  },
  {
   "cell_type": "markdown",
   "id": "904304bf",
   "metadata": {},
   "source": [
    "\n",
    "\n",
    "Now that we have visualized the different models, and generated the R-squared and MSE values for the fits, how do we determine a good model fit?\n",
    "\n",
    "What is a good R-squared value?\n",
    "When comparing models, the model with the higher R-squared value is a better fit for the data.\n",
    "\n",
    "What is a good MSE?\n",
    "When comparing models, the model with the smallest MSE value is a better fit for the data.\n",
    "\n",
    "Let's take a look at the values for the different models.\n",
    "Simple Linear Regression: Using Highway-mpg as a Predictor Variable of Price.\n",
    "\n",
    "R-squared: 0.49659118843391759\n",
    "MSE: 3.16 x10^7\n",
    "Multiple Linear Regression: Using Horsepower, Curb-weight, Engine-size, and Highway-mpg as Predictor Variables of Price.\n",
    "\n",
    "R-squared: 0.80896354913783497\n",
    "MSE: 1.2 x10^7\n",
    "Polynomial Fit: Using Highway-mpg as a Predictor Variable of Price.\n",
    "\n",
    "R-squared: 0.6741946663906514\n",
    "MSE: 2.05 x 10^7\n",
    "Simple Linear Regression Model (SLR) vs Multiple Linear Regression Model (MLR)\n",
    "Usually, the more variables you have, the better your model is at predicting, but this is not always true. Sometimes you may not have enough data, you may run into numerical problems, or many of the variables may not be useful and even act as noise. As a result, you should always check the MSE and R^2.\n",
    "\n",
    "In order to compare the results of the MLR vs SLR models, we look at a combination of both the R-squared and MSE to make the best conclusion about the fit of the model."
   ]
  },
  {
   "cell_type": "markdown",
   "id": "8ad85aef",
   "metadata": {},
   "source": [
    "MSE: The MSE of SLR is 3.16x10^7 while MLR has an MSE of 1.2 x10^7. The MSE of MLR is much smaller.\n",
    "\n",
    "R-squared: In this case, we can also see that there is a big difference between the R-squared of the SLR and the R-squared of the MLR. The R-squared for the SLR (~0.497) is very small compared to the R-squared for the MLR (~0.809).\n",
    "This R-squared in combination with the MSE show that MLR seems like the better model fit in this case compared to SLR."
   ]
  },
  {
   "cell_type": "markdown",
   "id": "4fe8a223",
   "metadata": {},
   "source": [
    "Simple Linear Model (SLR) vs. Polynomial Fit"
   ]
  },
  {
   "cell_type": "markdown",
   "id": "08df22a6",
   "metadata": {},
   "source": [
    "MSE: We can see that Polynomial Fit brought down the MSE, since this MSE is smaller than the one from the SLR.\n",
    "\n",
    "R-squared: The R-squared for the Polynomial Fit is larger than the R-squared for the SLR, so the Polynomial Fit also brought up the R-squared quite a bit.\n",
    "Since the Polynomial Fit resulted in a lower MSE and a higher R-squared, we can conclude that this was a better fit model than the simple linear regression for predicting \"price\" with \"highway-mpg\" as a predictor variable."
   ]
  },
  {
   "cell_type": "markdown",
   "id": "b54d4737",
   "metadata": {},
   "source": [
    "Multiple Linear Regression (MLR) vs. Polynomial Fit"
   ]
  },
  {
   "cell_type": "markdown",
   "id": "f371c7b4",
   "metadata": {},
   "source": [
    "MSE: The MSE for the MLR is smaller than the MSE for the Polynomial Fit.\n",
    "\n",
    "R-squared: The R-squared for the MLR is also much larger than for the Polynomial Fit."
   ]
  },
  {
   "cell_type": "markdown",
   "id": "0d82d19c",
   "metadata": {},
   "source": [
    "Conclusion:\n",
    "Comparing these three models, we conclude that the MLR model is the best model to be able to predict price from our dataset. This result makes sense since we have 27 variables in total and we know that more than one of those variables are potential predictors of the final car price."
   ]
  },
  {
   "cell_type": "code",
   "execution_count": null,
   "id": "1439f8dc",
   "metadata": {},
   "outputs": [],
   "source": []
  }
 ],
 "metadata": {
  "kernelspec": {
   "display_name": "Python 3 (ipykernel)",
   "language": "python",
   "name": "python3"
  },
  "language_info": {
   "codemirror_mode": {
    "name": "ipython",
    "version": 3
   },
   "file_extension": ".py",
   "mimetype": "text/x-python",
   "name": "python",
   "nbconvert_exporter": "python",
   "pygments_lexer": "ipython3",
   "version": "3.9.13"
  }
 },
 "nbformat": 4,
 "nbformat_minor": 5
}
